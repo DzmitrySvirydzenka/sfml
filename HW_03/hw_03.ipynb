{
 "cells": [
  {
   "cell_type": "markdown",
   "metadata": {},
   "source": [
    "## Комментарий"
   ]
  },
  {
   "cell_type": "markdown",
   "metadata": {},
   "source": [
    "Задумывалось сделать так, чтобы всё само перебиралось и строилось с любым количеством гиперпараметров и любым алгоритмом. Но не хватило знаний в питоне и времени, поэтому получился \"суррогат\" :) возможно, в следующих работах смогу доделать"
   ]
  },
  {
   "cell_type": "markdown",
   "metadata": {},
   "source": [
    "### Инициализация"
   ]
  },
  {
   "cell_type": "code",
   "execution_count": 1,
   "metadata": {
    "collapsed": true
   },
   "outputs": [],
   "source": [
    "import os\n",
    "os.environ[\"PATH\"] += os.pathsep + 'c:/Program Files (x86)/Graphviz2.38/bin/'\n",
    "\n",
    "import pandas as pd"
   ]
  },
  {
   "cell_type": "code",
   "execution_count": 2,
   "metadata": {
    "collapsed": true
   },
   "outputs": [],
   "source": [
    "from sklearn.model_selection import train_test_split"
   ]
  },
  {
   "cell_type": "code",
   "execution_count": 3,
   "metadata": {
    "collapsed": true
   },
   "outputs": [],
   "source": [
    "from sklearn.tree import DecisionTreeClassifier"
   ]
  },
  {
   "cell_type": "code",
   "execution_count": 4,
   "metadata": {
    "collapsed": true
   },
   "outputs": [],
   "source": [
    "from sklearn.neighbors import KNeighborsClassifier"
   ]
  },
  {
   "cell_type": "code",
   "execution_count": 5,
   "metadata": {
    "collapsed": true
   },
   "outputs": [],
   "source": [
    "from sklearn.linear_model import LogisticRegression"
   ]
  },
  {
   "cell_type": "code",
   "execution_count": 6,
   "metadata": {
    "collapsed": true
   },
   "outputs": [],
   "source": [
    "from matplotlib import pyplot as plt"
   ]
  },
  {
   "cell_type": "code",
   "execution_count": 7,
   "metadata": {
    "collapsed": true
   },
   "outputs": [],
   "source": [
    "from ipywidgets import Image\n",
    "from io import StringIO\n",
    "import pydotplus\n",
    "from sklearn.tree import export_graphviz"
   ]
  },
  {
   "cell_type": "code",
   "execution_count": 8,
   "metadata": {
    "collapsed": true
   },
   "outputs": [],
   "source": [
    "from sklearn.metrics import roc_auc_score"
   ]
  },
  {
   "cell_type": "markdown",
   "metadata": {},
   "source": [
    "### Загрузка данных"
   ]
  },
  {
   "cell_type": "code",
   "execution_count": 9,
   "metadata": {
    "collapsed": true
   },
   "outputs": [],
   "source": [
    "train = pd.read_csv('03_santander_train.csv', index_col='ID')"
   ]
  },
  {
   "cell_type": "code",
   "execution_count": 10,
   "metadata": {
    "collapsed": true
   },
   "outputs": [],
   "source": [
    "test = pd.read_csv('03_santander_test.csv', index_col='ID')"
   ]
  },
  {
   "cell_type": "code",
   "execution_count": 11,
   "metadata": {},
   "outputs": [
    {
     "data": {
      "text/html": [
       "<div>\n",
       "<style>\n",
       "    .dataframe thead tr:only-child th {\n",
       "        text-align: right;\n",
       "    }\n",
       "\n",
       "    .dataframe thead th {\n",
       "        text-align: left;\n",
       "    }\n",
       "\n",
       "    .dataframe tbody tr th {\n",
       "        vertical-align: top;\n",
       "    }\n",
       "</style>\n",
       "<table border=\"1\" class=\"dataframe\">\n",
       "  <thead>\n",
       "    <tr style=\"text-align: right;\">\n",
       "      <th></th>\n",
       "      <th>var3</th>\n",
       "      <th>var15</th>\n",
       "      <th>imp_ent_var16_ult1</th>\n",
       "      <th>imp_op_var39_comer_ult1</th>\n",
       "      <th>imp_op_var39_comer_ult3</th>\n",
       "      <th>imp_op_var40_comer_ult1</th>\n",
       "      <th>imp_op_var40_comer_ult3</th>\n",
       "      <th>imp_op_var40_efect_ult1</th>\n",
       "      <th>imp_op_var40_efect_ult3</th>\n",
       "      <th>imp_op_var40_ult1</th>\n",
       "      <th>...</th>\n",
       "      <th>saldo_medio_var33_hace2</th>\n",
       "      <th>saldo_medio_var33_hace3</th>\n",
       "      <th>saldo_medio_var33_ult1</th>\n",
       "      <th>saldo_medio_var33_ult3</th>\n",
       "      <th>saldo_medio_var44_hace2</th>\n",
       "      <th>saldo_medio_var44_hace3</th>\n",
       "      <th>saldo_medio_var44_ult1</th>\n",
       "      <th>saldo_medio_var44_ult3</th>\n",
       "      <th>var38</th>\n",
       "      <th>TARGET</th>\n",
       "    </tr>\n",
       "    <tr>\n",
       "      <th>ID</th>\n",
       "      <th></th>\n",
       "      <th></th>\n",
       "      <th></th>\n",
       "      <th></th>\n",
       "      <th></th>\n",
       "      <th></th>\n",
       "      <th></th>\n",
       "      <th></th>\n",
       "      <th></th>\n",
       "      <th></th>\n",
       "      <th></th>\n",
       "      <th></th>\n",
       "      <th></th>\n",
       "      <th></th>\n",
       "      <th></th>\n",
       "      <th></th>\n",
       "      <th></th>\n",
       "      <th></th>\n",
       "      <th></th>\n",
       "      <th></th>\n",
       "      <th></th>\n",
       "    </tr>\n",
       "  </thead>\n",
       "  <tbody>\n",
       "    <tr>\n",
       "      <th>1</th>\n",
       "      <td>2</td>\n",
       "      <td>23</td>\n",
       "      <td>0.0</td>\n",
       "      <td>0.0</td>\n",
       "      <td>0.0</td>\n",
       "      <td>0.0</td>\n",
       "      <td>0.0</td>\n",
       "      <td>0.0</td>\n",
       "      <td>0.0</td>\n",
       "      <td>0.0</td>\n",
       "      <td>...</td>\n",
       "      <td>0.0</td>\n",
       "      <td>0.0</td>\n",
       "      <td>0.0</td>\n",
       "      <td>0.0</td>\n",
       "      <td>0.0</td>\n",
       "      <td>0.0</td>\n",
       "      <td>0.0</td>\n",
       "      <td>0.0</td>\n",
       "      <td>39205.170000</td>\n",
       "      <td>0</td>\n",
       "    </tr>\n",
       "    <tr>\n",
       "      <th>3</th>\n",
       "      <td>2</td>\n",
       "      <td>34</td>\n",
       "      <td>0.0</td>\n",
       "      <td>0.0</td>\n",
       "      <td>0.0</td>\n",
       "      <td>0.0</td>\n",
       "      <td>0.0</td>\n",
       "      <td>0.0</td>\n",
       "      <td>0.0</td>\n",
       "      <td>0.0</td>\n",
       "      <td>...</td>\n",
       "      <td>0.0</td>\n",
       "      <td>0.0</td>\n",
       "      <td>0.0</td>\n",
       "      <td>0.0</td>\n",
       "      <td>0.0</td>\n",
       "      <td>0.0</td>\n",
       "      <td>0.0</td>\n",
       "      <td>0.0</td>\n",
       "      <td>49278.030000</td>\n",
       "      <td>0</td>\n",
       "    </tr>\n",
       "    <tr>\n",
       "      <th>4</th>\n",
       "      <td>2</td>\n",
       "      <td>23</td>\n",
       "      <td>0.0</td>\n",
       "      <td>0.0</td>\n",
       "      <td>0.0</td>\n",
       "      <td>0.0</td>\n",
       "      <td>0.0</td>\n",
       "      <td>0.0</td>\n",
       "      <td>0.0</td>\n",
       "      <td>0.0</td>\n",
       "      <td>...</td>\n",
       "      <td>0.0</td>\n",
       "      <td>0.0</td>\n",
       "      <td>0.0</td>\n",
       "      <td>0.0</td>\n",
       "      <td>0.0</td>\n",
       "      <td>0.0</td>\n",
       "      <td>0.0</td>\n",
       "      <td>0.0</td>\n",
       "      <td>67333.770000</td>\n",
       "      <td>0</td>\n",
       "    </tr>\n",
       "    <tr>\n",
       "      <th>8</th>\n",
       "      <td>2</td>\n",
       "      <td>37</td>\n",
       "      <td>0.0</td>\n",
       "      <td>195.0</td>\n",
       "      <td>195.0</td>\n",
       "      <td>0.0</td>\n",
       "      <td>0.0</td>\n",
       "      <td>0.0</td>\n",
       "      <td>0.0</td>\n",
       "      <td>0.0</td>\n",
       "      <td>...</td>\n",
       "      <td>0.0</td>\n",
       "      <td>0.0</td>\n",
       "      <td>0.0</td>\n",
       "      <td>0.0</td>\n",
       "      <td>0.0</td>\n",
       "      <td>0.0</td>\n",
       "      <td>0.0</td>\n",
       "      <td>0.0</td>\n",
       "      <td>64007.970000</td>\n",
       "      <td>0</td>\n",
       "    </tr>\n",
       "    <tr>\n",
       "      <th>10</th>\n",
       "      <td>2</td>\n",
       "      <td>39</td>\n",
       "      <td>0.0</td>\n",
       "      <td>0.0</td>\n",
       "      <td>0.0</td>\n",
       "      <td>0.0</td>\n",
       "      <td>0.0</td>\n",
       "      <td>0.0</td>\n",
       "      <td>0.0</td>\n",
       "      <td>0.0</td>\n",
       "      <td>...</td>\n",
       "      <td>0.0</td>\n",
       "      <td>0.0</td>\n",
       "      <td>0.0</td>\n",
       "      <td>0.0</td>\n",
       "      <td>0.0</td>\n",
       "      <td>0.0</td>\n",
       "      <td>0.0</td>\n",
       "      <td>0.0</td>\n",
       "      <td>117310.979016</td>\n",
       "      <td>0</td>\n",
       "    </tr>\n",
       "  </tbody>\n",
       "</table>\n",
       "<p>5 rows × 370 columns</p>\n",
       "</div>"
      ],
      "text/plain": [
       "    var3  var15  imp_ent_var16_ult1  imp_op_var39_comer_ult1  \\\n",
       "ID                                                             \n",
       "1      2     23                 0.0                      0.0   \n",
       "3      2     34                 0.0                      0.0   \n",
       "4      2     23                 0.0                      0.0   \n",
       "8      2     37                 0.0                    195.0   \n",
       "10     2     39                 0.0                      0.0   \n",
       "\n",
       "    imp_op_var39_comer_ult3  imp_op_var40_comer_ult1  imp_op_var40_comer_ult3  \\\n",
       "ID                                                                              \n",
       "1                       0.0                      0.0                      0.0   \n",
       "3                       0.0                      0.0                      0.0   \n",
       "4                       0.0                      0.0                      0.0   \n",
       "8                     195.0                      0.0                      0.0   \n",
       "10                      0.0                      0.0                      0.0   \n",
       "\n",
       "    imp_op_var40_efect_ult1  imp_op_var40_efect_ult3  imp_op_var40_ult1  \\\n",
       "ID                                                                        \n",
       "1                       0.0                      0.0                0.0   \n",
       "3                       0.0                      0.0                0.0   \n",
       "4                       0.0                      0.0                0.0   \n",
       "8                       0.0                      0.0                0.0   \n",
       "10                      0.0                      0.0                0.0   \n",
       "\n",
       "     ...    saldo_medio_var33_hace2  saldo_medio_var33_hace3  \\\n",
       "ID   ...                                                       \n",
       "1    ...                        0.0                      0.0   \n",
       "3    ...                        0.0                      0.0   \n",
       "4    ...                        0.0                      0.0   \n",
       "8    ...                        0.0                      0.0   \n",
       "10   ...                        0.0                      0.0   \n",
       "\n",
       "    saldo_medio_var33_ult1  saldo_medio_var33_ult3  saldo_medio_var44_hace2  \\\n",
       "ID                                                                            \n",
       "1                      0.0                     0.0                      0.0   \n",
       "3                      0.0                     0.0                      0.0   \n",
       "4                      0.0                     0.0                      0.0   \n",
       "8                      0.0                     0.0                      0.0   \n",
       "10                     0.0                     0.0                      0.0   \n",
       "\n",
       "    saldo_medio_var44_hace3  saldo_medio_var44_ult1  saldo_medio_var44_ult3  \\\n",
       "ID                                                                            \n",
       "1                       0.0                     0.0                     0.0   \n",
       "3                       0.0                     0.0                     0.0   \n",
       "4                       0.0                     0.0                     0.0   \n",
       "8                       0.0                     0.0                     0.0   \n",
       "10                      0.0                     0.0                     0.0   \n",
       "\n",
       "            var38  TARGET  \n",
       "ID                         \n",
       "1    39205.170000       0  \n",
       "3    49278.030000       0  \n",
       "4    67333.770000       0  \n",
       "8    64007.970000       0  \n",
       "10  117310.979016       0  \n",
       "\n",
       "[5 rows x 370 columns]"
      ]
     },
     "execution_count": 11,
     "metadata": {},
     "output_type": "execute_result"
    }
   ],
   "source": [
    "train.head()"
   ]
  },
  {
   "cell_type": "code",
   "execution_count": 12,
   "metadata": {},
   "outputs": [
    {
     "data": {
      "text/html": [
       "<div>\n",
       "<style>\n",
       "    .dataframe thead tr:only-child th {\n",
       "        text-align: right;\n",
       "    }\n",
       "\n",
       "    .dataframe thead th {\n",
       "        text-align: left;\n",
       "    }\n",
       "\n",
       "    .dataframe tbody tr th {\n",
       "        vertical-align: top;\n",
       "    }\n",
       "</style>\n",
       "<table border=\"1\" class=\"dataframe\">\n",
       "  <thead>\n",
       "    <tr style=\"text-align: right;\">\n",
       "      <th></th>\n",
       "      <th>var3</th>\n",
       "      <th>var15</th>\n",
       "      <th>imp_ent_var16_ult1</th>\n",
       "      <th>imp_op_var39_comer_ult1</th>\n",
       "      <th>imp_op_var39_comer_ult3</th>\n",
       "      <th>imp_op_var40_comer_ult1</th>\n",
       "      <th>imp_op_var40_comer_ult3</th>\n",
       "      <th>imp_op_var40_efect_ult1</th>\n",
       "      <th>imp_op_var40_efect_ult3</th>\n",
       "      <th>imp_op_var40_ult1</th>\n",
       "      <th>...</th>\n",
       "      <th>saldo_medio_var29_ult3</th>\n",
       "      <th>saldo_medio_var33_hace2</th>\n",
       "      <th>saldo_medio_var33_hace3</th>\n",
       "      <th>saldo_medio_var33_ult1</th>\n",
       "      <th>saldo_medio_var33_ult3</th>\n",
       "      <th>saldo_medio_var44_hace2</th>\n",
       "      <th>saldo_medio_var44_hace3</th>\n",
       "      <th>saldo_medio_var44_ult1</th>\n",
       "      <th>saldo_medio_var44_ult3</th>\n",
       "      <th>var38</th>\n",
       "    </tr>\n",
       "    <tr>\n",
       "      <th>ID</th>\n",
       "      <th></th>\n",
       "      <th></th>\n",
       "      <th></th>\n",
       "      <th></th>\n",
       "      <th></th>\n",
       "      <th></th>\n",
       "      <th></th>\n",
       "      <th></th>\n",
       "      <th></th>\n",
       "      <th></th>\n",
       "      <th></th>\n",
       "      <th></th>\n",
       "      <th></th>\n",
       "      <th></th>\n",
       "      <th></th>\n",
       "      <th></th>\n",
       "      <th></th>\n",
       "      <th></th>\n",
       "      <th></th>\n",
       "      <th></th>\n",
       "      <th></th>\n",
       "    </tr>\n",
       "  </thead>\n",
       "  <tbody>\n",
       "    <tr>\n",
       "      <th>2</th>\n",
       "      <td>2</td>\n",
       "      <td>32</td>\n",
       "      <td>0.0</td>\n",
       "      <td>0.0</td>\n",
       "      <td>0.0</td>\n",
       "      <td>0.0</td>\n",
       "      <td>0.0</td>\n",
       "      <td>0.0</td>\n",
       "      <td>0.0</td>\n",
       "      <td>0.0</td>\n",
       "      <td>...</td>\n",
       "      <td>0.0</td>\n",
       "      <td>0.0</td>\n",
       "      <td>0.0</td>\n",
       "      <td>0.0</td>\n",
       "      <td>0.0</td>\n",
       "      <td>0.0</td>\n",
       "      <td>0.0</td>\n",
       "      <td>0.0</td>\n",
       "      <td>0.0</td>\n",
       "      <td>40532.10</td>\n",
       "    </tr>\n",
       "    <tr>\n",
       "      <th>5</th>\n",
       "      <td>2</td>\n",
       "      <td>35</td>\n",
       "      <td>0.0</td>\n",
       "      <td>0.0</td>\n",
       "      <td>0.0</td>\n",
       "      <td>0.0</td>\n",
       "      <td>0.0</td>\n",
       "      <td>0.0</td>\n",
       "      <td>0.0</td>\n",
       "      <td>0.0</td>\n",
       "      <td>...</td>\n",
       "      <td>0.0</td>\n",
       "      <td>0.0</td>\n",
       "      <td>0.0</td>\n",
       "      <td>0.0</td>\n",
       "      <td>0.0</td>\n",
       "      <td>0.0</td>\n",
       "      <td>0.0</td>\n",
       "      <td>0.0</td>\n",
       "      <td>0.0</td>\n",
       "      <td>45486.72</td>\n",
       "    </tr>\n",
       "    <tr>\n",
       "      <th>6</th>\n",
       "      <td>2</td>\n",
       "      <td>23</td>\n",
       "      <td>0.0</td>\n",
       "      <td>0.0</td>\n",
       "      <td>0.0</td>\n",
       "      <td>0.0</td>\n",
       "      <td>0.0</td>\n",
       "      <td>0.0</td>\n",
       "      <td>0.0</td>\n",
       "      <td>0.0</td>\n",
       "      <td>...</td>\n",
       "      <td>0.0</td>\n",
       "      <td>0.0</td>\n",
       "      <td>0.0</td>\n",
       "      <td>0.0</td>\n",
       "      <td>0.0</td>\n",
       "      <td>0.0</td>\n",
       "      <td>0.0</td>\n",
       "      <td>0.0</td>\n",
       "      <td>0.0</td>\n",
       "      <td>46993.95</td>\n",
       "    </tr>\n",
       "    <tr>\n",
       "      <th>7</th>\n",
       "      <td>2</td>\n",
       "      <td>24</td>\n",
       "      <td>0.0</td>\n",
       "      <td>0.0</td>\n",
       "      <td>0.0</td>\n",
       "      <td>0.0</td>\n",
       "      <td>0.0</td>\n",
       "      <td>0.0</td>\n",
       "      <td>0.0</td>\n",
       "      <td>0.0</td>\n",
       "      <td>...</td>\n",
       "      <td>0.0</td>\n",
       "      <td>0.0</td>\n",
       "      <td>0.0</td>\n",
       "      <td>0.0</td>\n",
       "      <td>0.0</td>\n",
       "      <td>0.0</td>\n",
       "      <td>0.0</td>\n",
       "      <td>0.0</td>\n",
       "      <td>0.0</td>\n",
       "      <td>187898.61</td>\n",
       "    </tr>\n",
       "    <tr>\n",
       "      <th>9</th>\n",
       "      <td>2</td>\n",
       "      <td>23</td>\n",
       "      <td>0.0</td>\n",
       "      <td>0.0</td>\n",
       "      <td>0.0</td>\n",
       "      <td>0.0</td>\n",
       "      <td>0.0</td>\n",
       "      <td>0.0</td>\n",
       "      <td>0.0</td>\n",
       "      <td>0.0</td>\n",
       "      <td>...</td>\n",
       "      <td>0.0</td>\n",
       "      <td>0.0</td>\n",
       "      <td>0.0</td>\n",
       "      <td>0.0</td>\n",
       "      <td>0.0</td>\n",
       "      <td>0.0</td>\n",
       "      <td>0.0</td>\n",
       "      <td>0.0</td>\n",
       "      <td>0.0</td>\n",
       "      <td>73649.73</td>\n",
       "    </tr>\n",
       "  </tbody>\n",
       "</table>\n",
       "<p>5 rows × 369 columns</p>\n",
       "</div>"
      ],
      "text/plain": [
       "    var3  var15  imp_ent_var16_ult1  imp_op_var39_comer_ult1  \\\n",
       "ID                                                             \n",
       "2      2     32                 0.0                      0.0   \n",
       "5      2     35                 0.0                      0.0   \n",
       "6      2     23                 0.0                      0.0   \n",
       "7      2     24                 0.0                      0.0   \n",
       "9      2     23                 0.0                      0.0   \n",
       "\n",
       "    imp_op_var39_comer_ult3  imp_op_var40_comer_ult1  imp_op_var40_comer_ult3  \\\n",
       "ID                                                                              \n",
       "2                       0.0                      0.0                      0.0   \n",
       "5                       0.0                      0.0                      0.0   \n",
       "6                       0.0                      0.0                      0.0   \n",
       "7                       0.0                      0.0                      0.0   \n",
       "9                       0.0                      0.0                      0.0   \n",
       "\n",
       "    imp_op_var40_efect_ult1  imp_op_var40_efect_ult3  imp_op_var40_ult1  \\\n",
       "ID                                                                        \n",
       "2                       0.0                      0.0                0.0   \n",
       "5                       0.0                      0.0                0.0   \n",
       "6                       0.0                      0.0                0.0   \n",
       "7                       0.0                      0.0                0.0   \n",
       "9                       0.0                      0.0                0.0   \n",
       "\n",
       "      ...      saldo_medio_var29_ult3  saldo_medio_var33_hace2  \\\n",
       "ID    ...                                                        \n",
       "2     ...                         0.0                      0.0   \n",
       "5     ...                         0.0                      0.0   \n",
       "6     ...                         0.0                      0.0   \n",
       "7     ...                         0.0                      0.0   \n",
       "9     ...                         0.0                      0.0   \n",
       "\n",
       "    saldo_medio_var33_hace3  saldo_medio_var33_ult1  saldo_medio_var33_ult3  \\\n",
       "ID                                                                            \n",
       "2                       0.0                     0.0                     0.0   \n",
       "5                       0.0                     0.0                     0.0   \n",
       "6                       0.0                     0.0                     0.0   \n",
       "7                       0.0                     0.0                     0.0   \n",
       "9                       0.0                     0.0                     0.0   \n",
       "\n",
       "    saldo_medio_var44_hace2  saldo_medio_var44_hace3  saldo_medio_var44_ult1  \\\n",
       "ID                                                                             \n",
       "2                       0.0                      0.0                     0.0   \n",
       "5                       0.0                      0.0                     0.0   \n",
       "6                       0.0                      0.0                     0.0   \n",
       "7                       0.0                      0.0                     0.0   \n",
       "9                       0.0                      0.0                     0.0   \n",
       "\n",
       "    saldo_medio_var44_ult3      var38  \n",
       "ID                                     \n",
       "2                      0.0   40532.10  \n",
       "5                      0.0   45486.72  \n",
       "6                      0.0   46993.95  \n",
       "7                      0.0  187898.61  \n",
       "9                      0.0   73649.73  \n",
       "\n",
       "[5 rows x 369 columns]"
      ]
     },
     "execution_count": 12,
     "metadata": {},
     "output_type": "execute_result"
    }
   ],
   "source": [
    "test.head()"
   ]
  },
  {
   "cell_type": "code",
   "execution_count": 13,
   "metadata": {},
   "outputs": [
    {
     "name": "stdout",
     "output_type": "stream",
     "text": [
      "<class 'pandas.core.frame.DataFrame'>\n",
      "Int64Index: 76020 entries, 1 to 151838\n",
      "Data columns (total 370 columns):\n",
      "var3                             76020 non-null int64\n",
      "var15                            76020 non-null int64\n",
      "imp_ent_var16_ult1               76020 non-null float64\n",
      "imp_op_var39_comer_ult1          76020 non-null float64\n",
      "imp_op_var39_comer_ult3          76020 non-null float64\n",
      "imp_op_var40_comer_ult1          76020 non-null float64\n",
      "imp_op_var40_comer_ult3          76020 non-null float64\n",
      "imp_op_var40_efect_ult1          76020 non-null float64\n",
      "imp_op_var40_efect_ult3          76020 non-null float64\n",
      "imp_op_var40_ult1                76020 non-null float64\n",
      "imp_op_var41_comer_ult1          76020 non-null float64\n",
      "imp_op_var41_comer_ult3          76020 non-null float64\n",
      "imp_op_var41_efect_ult1          76020 non-null float64\n",
      "imp_op_var41_efect_ult3          76020 non-null float64\n",
      "imp_op_var41_ult1                76020 non-null float64\n",
      "imp_op_var39_efect_ult1          76020 non-null float64\n",
      "imp_op_var39_efect_ult3          76020 non-null float64\n",
      "imp_op_var39_ult1                76020 non-null float64\n",
      "imp_sal_var16_ult1               76020 non-null float64\n",
      "ind_var1_0                       76020 non-null int64\n",
      "ind_var1                         76020 non-null int64\n",
      "ind_var2_0                       76020 non-null int64\n",
      "ind_var2                         76020 non-null int64\n",
      "ind_var5_0                       76020 non-null int64\n",
      "ind_var5                         76020 non-null int64\n",
      "ind_var6_0                       76020 non-null int64\n",
      "ind_var6                         76020 non-null int64\n",
      "ind_var8_0                       76020 non-null int64\n",
      "ind_var8                         76020 non-null int64\n",
      "ind_var12_0                      76020 non-null int64\n",
      "ind_var12                        76020 non-null int64\n",
      "ind_var13_0                      76020 non-null int64\n",
      "ind_var13_corto_0                76020 non-null int64\n",
      "ind_var13_corto                  76020 non-null int64\n",
      "ind_var13_largo_0                76020 non-null int64\n",
      "ind_var13_largo                  76020 non-null int64\n",
      "ind_var13_medio_0                76020 non-null int64\n",
      "ind_var13_medio                  76020 non-null int64\n",
      "ind_var13                        76020 non-null int64\n",
      "ind_var14_0                      76020 non-null int64\n",
      "ind_var14                        76020 non-null int64\n",
      "ind_var17_0                      76020 non-null int64\n",
      "ind_var17                        76020 non-null int64\n",
      "ind_var18_0                      76020 non-null int64\n",
      "ind_var18                        76020 non-null int64\n",
      "ind_var19                        76020 non-null int64\n",
      "ind_var20_0                      76020 non-null int64\n",
      "ind_var20                        76020 non-null int64\n",
      "ind_var24_0                      76020 non-null int64\n",
      "ind_var24                        76020 non-null int64\n",
      "ind_var25_cte                    76020 non-null int64\n",
      "ind_var26_0                      76020 non-null int64\n",
      "ind_var26_cte                    76020 non-null int64\n",
      "ind_var26                        76020 non-null int64\n",
      "ind_var25_0                      76020 non-null int64\n",
      "ind_var25                        76020 non-null int64\n",
      "ind_var27_0                      76020 non-null int64\n",
      "ind_var28_0                      76020 non-null int64\n",
      "ind_var28                        76020 non-null int64\n",
      "ind_var27                        76020 non-null int64\n",
      "ind_var29_0                      76020 non-null int64\n",
      "ind_var29                        76020 non-null int64\n",
      "ind_var30_0                      76020 non-null int64\n",
      "ind_var30                        76020 non-null int64\n",
      "ind_var31_0                      76020 non-null int64\n",
      "ind_var31                        76020 non-null int64\n",
      "ind_var32_cte                    76020 non-null int64\n",
      "ind_var32_0                      76020 non-null int64\n",
      "ind_var32                        76020 non-null int64\n",
      "ind_var33_0                      76020 non-null int64\n",
      "ind_var33                        76020 non-null int64\n",
      "ind_var34_0                      76020 non-null int64\n",
      "ind_var34                        76020 non-null int64\n",
      "ind_var37_cte                    76020 non-null int64\n",
      "ind_var37_0                      76020 non-null int64\n",
      "ind_var37                        76020 non-null int64\n",
      "ind_var39_0                      76020 non-null int64\n",
      "ind_var40_0                      76020 non-null int64\n",
      "ind_var40                        76020 non-null int64\n",
      "ind_var41_0                      76020 non-null int64\n",
      "ind_var41                        76020 non-null int64\n",
      "ind_var39                        76020 non-null int64\n",
      "ind_var44_0                      76020 non-null int64\n",
      "ind_var44                        76020 non-null int64\n",
      "ind_var46_0                      76020 non-null int64\n",
      "ind_var46                        76020 non-null int64\n",
      "num_var1_0                       76020 non-null int64\n",
      "num_var1                         76020 non-null int64\n",
      "num_var4                         76020 non-null int64\n",
      "num_var5_0                       76020 non-null int64\n",
      "num_var5                         76020 non-null int64\n",
      "num_var6_0                       76020 non-null int64\n",
      "num_var6                         76020 non-null int64\n",
      "num_var8_0                       76020 non-null int64\n",
      "num_var8                         76020 non-null int64\n",
      "num_var12_0                      76020 non-null int64\n",
      "num_var12                        76020 non-null int64\n",
      "num_var13_0                      76020 non-null int64\n",
      "num_var13_corto_0                76020 non-null int64\n",
      "num_var13_corto                  76020 non-null int64\n",
      "num_var13_largo_0                76020 non-null int64\n",
      "num_var13_largo                  76020 non-null int64\n",
      "num_var13_medio_0                76020 non-null int64\n",
      "num_var13_medio                  76020 non-null int64\n",
      "num_var13                        76020 non-null int64\n",
      "num_var14_0                      76020 non-null int64\n",
      "num_var14                        76020 non-null int64\n",
      "num_var17_0                      76020 non-null int64\n",
      "num_var17                        76020 non-null int64\n",
      "num_var18_0                      76020 non-null int64\n",
      "num_var18                        76020 non-null int64\n",
      "num_var20_0                      76020 non-null int64\n",
      "num_var20                        76020 non-null int64\n",
      "num_var24_0                      76020 non-null int64\n",
      "num_var24                        76020 non-null int64\n",
      "num_var26_0                      76020 non-null int64\n",
      "num_var26                        76020 non-null int64\n",
      "num_var25_0                      76020 non-null int64\n",
      "num_var25                        76020 non-null int64\n",
      "num_op_var40_hace2               76020 non-null int64\n",
      "num_op_var40_hace3               76020 non-null int64\n",
      "num_op_var40_ult1                76020 non-null int64\n",
      "num_op_var40_ult3                76020 non-null int64\n",
      "num_op_var41_hace2               76020 non-null int64\n",
      "num_op_var41_hace3               76020 non-null int64\n",
      "num_op_var41_ult1                76020 non-null int64\n",
      "num_op_var41_ult3                76020 non-null int64\n",
      "num_op_var39_hace2               76020 non-null int64\n",
      "num_op_var39_hace3               76020 non-null int64\n",
      "num_op_var39_ult1                76020 non-null int64\n",
      "num_op_var39_ult3                76020 non-null int64\n",
      "num_var27_0                      76020 non-null int64\n",
      "num_var28_0                      76020 non-null int64\n",
      "num_var28                        76020 non-null int64\n",
      "num_var27                        76020 non-null int64\n",
      "num_var29_0                      76020 non-null int64\n",
      "num_var29                        76020 non-null int64\n",
      "num_var30_0                      76020 non-null int64\n",
      "num_var30                        76020 non-null int64\n",
      "num_var31_0                      76020 non-null int64\n",
      "num_var31                        76020 non-null int64\n",
      "num_var32_0                      76020 non-null int64\n",
      "num_var32                        76020 non-null int64\n",
      "num_var33_0                      76020 non-null int64\n",
      "num_var33                        76020 non-null int64\n",
      "num_var34_0                      76020 non-null int64\n",
      "num_var34                        76020 non-null int64\n",
      "num_var35                        76020 non-null int64\n",
      "num_var37_med_ult2               76020 non-null int64\n",
      "num_var37_0                      76020 non-null int64\n",
      "num_var37                        76020 non-null int64\n",
      "num_var39_0                      76020 non-null int64\n",
      "num_var40_0                      76020 non-null int64\n",
      "num_var40                        76020 non-null int64\n",
      "num_var41_0                      76020 non-null int64\n",
      "num_var41                        76020 non-null int64\n",
      "num_var39                        76020 non-null int64\n",
      "num_var42_0                      76020 non-null int64\n",
      "num_var42                        76020 non-null int64\n",
      "num_var44_0                      76020 non-null int64\n",
      "num_var44                        76020 non-null int64\n",
      "num_var46_0                      76020 non-null int64\n",
      "num_var46                        76020 non-null int64\n",
      "saldo_var1                       76020 non-null float64\n",
      "saldo_var5                       76020 non-null float64\n",
      "saldo_var6                       76020 non-null float64\n",
      "saldo_var8                       76020 non-null float64\n",
      "saldo_var12                      76020 non-null float64\n",
      "saldo_var13_corto                76020 non-null float64\n",
      "saldo_var13_largo                76020 non-null float64\n",
      "saldo_var13_medio                76020 non-null int64\n",
      "saldo_var13                      76020 non-null float64\n",
      "saldo_var14                      76020 non-null float64\n",
      "saldo_var17                      76020 non-null float64\n",
      "saldo_var18                      76020 non-null int64\n",
      "saldo_var20                      76020 non-null float64\n",
      "saldo_var24                      76020 non-null float64\n",
      "saldo_var26                      76020 non-null float64\n",
      "saldo_var25                      76020 non-null float64\n",
      "saldo_var28                      76020 non-null int64\n",
      "saldo_var27                      76020 non-null int64\n",
      "saldo_var29                      76020 non-null float64\n",
      "saldo_var30                      76020 non-null float64\n",
      "saldo_var31                      76020 non-null float64\n",
      "saldo_var32                      76020 non-null float64\n",
      "saldo_var33                      76020 non-null float64\n",
      "saldo_var34                      76020 non-null int64\n",
      "saldo_var37                      76020 non-null float64\n",
      "saldo_var40                      76020 non-null float64\n",
      "saldo_var41                      76020 non-null int64\n",
      "saldo_var42                      76020 non-null float64\n",
      "saldo_var44                      76020 non-null float64\n",
      "saldo_var46                      76020 non-null int64\n",
      "var36                            76020 non-null int64\n",
      "delta_imp_amort_var18_1y3        76020 non-null int64\n",
      "delta_imp_amort_var34_1y3        76020 non-null int64\n",
      "delta_imp_aport_var13_1y3        76020 non-null float64\n",
      "delta_imp_aport_var17_1y3        76020 non-null float64\n",
      "delta_imp_aport_var33_1y3        76020 non-null float64\n",
      "delta_imp_compra_var44_1y3       76020 non-null float64\n",
      "delta_imp_reemb_var13_1y3        76020 non-null int64\n",
      "delta_imp_reemb_var17_1y3        76020 non-null int64\n",
      "delta_imp_reemb_var33_1y3        76020 non-null int64\n",
      "delta_imp_trasp_var17_in_1y3     76020 non-null int64\n",
      "delta_imp_trasp_var17_out_1y3    76020 non-null int64\n",
      "delta_imp_trasp_var33_in_1y3     76020 non-null int64\n",
      "delta_imp_trasp_var33_out_1y3    76020 non-null int64\n",
      "delta_imp_venta_var44_1y3        76020 non-null float64\n",
      "delta_num_aport_var13_1y3        76020 non-null float64\n",
      "delta_num_aport_var17_1y3        76020 non-null float64\n",
      "delta_num_aport_var33_1y3        76020 non-null float64\n",
      "delta_num_compra_var44_1y3       76020 non-null float64\n",
      "delta_num_reemb_var13_1y3        76020 non-null int64\n",
      "delta_num_reemb_var17_1y3        76020 non-null int64\n",
      "delta_num_reemb_var33_1y3        76020 non-null int64\n",
      "delta_num_trasp_var17_in_1y3     76020 non-null int64\n",
      "delta_num_trasp_var17_out_1y3    76020 non-null int64\n",
      "delta_num_trasp_var33_in_1y3     76020 non-null int64\n",
      "delta_num_trasp_var33_out_1y3    76020 non-null int64\n",
      "delta_num_venta_var44_1y3        76020 non-null float64\n",
      "imp_amort_var18_hace3            76020 non-null int64\n",
      "imp_amort_var18_ult1             76020 non-null float64\n",
      "imp_amort_var34_hace3            76020 non-null int64\n",
      "imp_amort_var34_ult1             76020 non-null float64\n",
      "imp_aport_var13_hace3            76020 non-null float64\n",
      "imp_aport_var13_ult1             76020 non-null float64\n",
      "imp_aport_var17_hace3            76020 non-null float64\n",
      "imp_aport_var17_ult1             76020 non-null float64\n",
      "imp_aport_var33_hace3            76020 non-null int64\n",
      "imp_aport_var33_ult1             76020 non-null int64\n",
      "imp_var7_emit_ult1               76020 non-null float64\n",
      "imp_var7_recib_ult1              76020 non-null float64\n",
      "imp_compra_var44_hace3           76020 non-null float64\n",
      "imp_compra_var44_ult1            76020 non-null float64\n",
      "imp_reemb_var13_hace3            76020 non-null int64\n",
      "imp_reemb_var13_ult1             76020 non-null float64\n",
      "imp_reemb_var17_hace3            76020 non-null float64\n",
      "imp_reemb_var17_ult1             76020 non-null float64\n",
      "imp_reemb_var33_hace3            76020 non-null int64\n",
      "imp_reemb_var33_ult1             76020 non-null int64\n",
      "imp_var43_emit_ult1              76020 non-null float64\n",
      "imp_trans_var37_ult1             76020 non-null float64\n",
      "imp_trasp_var17_in_hace3         76020 non-null float64\n",
      "imp_trasp_var17_in_ult1          76020 non-null float64\n",
      "imp_trasp_var17_out_hace3        76020 non-null int64\n",
      "imp_trasp_var17_out_ult1         76020 non-null float64\n",
      "imp_trasp_var33_in_hace3         76020 non-null float64\n",
      "imp_trasp_var33_in_ult1          76020 non-null float64\n",
      "imp_trasp_var33_out_hace3        76020 non-null int64\n",
      "imp_trasp_var33_out_ult1         76020 non-null int64\n",
      "imp_venta_var44_hace3            76020 non-null float64\n",
      "imp_venta_var44_ult1             76020 non-null float64\n",
      "ind_var7_emit_ult1               76020 non-null int64\n",
      "ind_var7_recib_ult1              76020 non-null int64\n",
      "ind_var10_ult1                   76020 non-null int64\n",
      "ind_var10cte_ult1                76020 non-null int64\n",
      "ind_var9_cte_ult1                76020 non-null int64\n",
      "ind_var9_ult1                    76020 non-null int64\n",
      "ind_var43_emit_ult1              76020 non-null int64\n",
      "ind_var43_recib_ult1             76020 non-null int64\n",
      "var21                            76020 non-null int64\n",
      "num_var2_0_ult1                  76020 non-null int64\n",
      "num_var2_ult1                    76020 non-null int64\n",
      "num_aport_var13_hace3            76020 non-null int64\n",
      "num_aport_var13_ult1             76020 non-null int64\n",
      "num_aport_var17_hace3            76020 non-null int64\n",
      "num_aport_var17_ult1             76020 non-null int64\n",
      "num_aport_var33_hace3            76020 non-null int64\n",
      "num_aport_var33_ult1             76020 non-null int64\n",
      "num_var7_emit_ult1               76020 non-null int64\n",
      "num_var7_recib_ult1              76020 non-null int64\n",
      "num_compra_var44_hace3           76020 non-null int64\n",
      "num_compra_var44_ult1            76020 non-null int64\n",
      "num_ent_var16_ult1               76020 non-null int64\n",
      "num_var22_hace2                  76020 non-null int64\n",
      "num_var22_hace3                  76020 non-null int64\n",
      "num_var22_ult1                   76020 non-null int64\n",
      "num_var22_ult3                   76020 non-null int64\n",
      "num_med_var22_ult3               76020 non-null int64\n",
      "num_med_var45_ult3               76020 non-null int64\n",
      "num_meses_var5_ult3              76020 non-null int64\n",
      "num_meses_var8_ult3              76020 non-null int64\n",
      "num_meses_var12_ult3             76020 non-null int64\n",
      "num_meses_var13_corto_ult3       76020 non-null int64\n",
      "num_meses_var13_largo_ult3       76020 non-null int64\n",
      "num_meses_var13_medio_ult3       76020 non-null int64\n",
      "num_meses_var17_ult3             76020 non-null int64\n",
      "num_meses_var29_ult3             76020 non-null int64\n",
      "num_meses_var33_ult3             76020 non-null int64\n",
      "num_meses_var39_vig_ult3         76020 non-null int64\n",
      "num_meses_var44_ult3             76020 non-null int64\n",
      "num_op_var39_comer_ult1          76020 non-null int64\n",
      "num_op_var39_comer_ult3          76020 non-null int64\n",
      "num_op_var40_comer_ult1          76020 non-null int64\n",
      "num_op_var40_comer_ult3          76020 non-null int64\n",
      "num_op_var40_efect_ult1          76020 non-null int64\n",
      "num_op_var40_efect_ult3          76020 non-null int64\n",
      "num_op_var41_comer_ult1          76020 non-null int64\n",
      "num_op_var41_comer_ult3          76020 non-null int64\n",
      "num_op_var41_efect_ult1          76020 non-null int64\n",
      "num_op_var41_efect_ult3          76020 non-null int64\n",
      "num_op_var39_efect_ult1          76020 non-null int64\n",
      "num_op_var39_efect_ult3          76020 non-null int64\n",
      "num_reemb_var13_hace3            76020 non-null int64\n",
      "num_reemb_var13_ult1             76020 non-null int64\n",
      "num_reemb_var17_hace3            76020 non-null int64\n",
      "num_reemb_var17_ult1             76020 non-null int64\n",
      "num_reemb_var33_hace3            76020 non-null int64\n",
      "num_reemb_var33_ult1             76020 non-null int64\n",
      "num_sal_var16_ult1               76020 non-null int64\n",
      "num_var43_emit_ult1              76020 non-null int64\n",
      "num_var43_recib_ult1             76020 non-null int64\n",
      "num_trasp_var11_ult1             76020 non-null int64\n",
      "num_trasp_var17_in_hace3         76020 non-null int64\n",
      "num_trasp_var17_in_ult1          76020 non-null int64\n",
      "num_trasp_var17_out_hace3        76020 non-null int64\n",
      "num_trasp_var17_out_ult1         76020 non-null int64\n",
      "num_trasp_var33_in_hace3         76020 non-null int64\n",
      "num_trasp_var33_in_ult1          76020 non-null int64\n",
      "num_trasp_var33_out_hace3        76020 non-null int64\n",
      "num_trasp_var33_out_ult1         76020 non-null int64\n",
      "num_venta_var44_hace3            76020 non-null int64\n",
      "num_venta_var44_ult1             76020 non-null int64\n",
      "num_var45_hace2                  76020 non-null int64\n",
      "num_var45_hace3                  76020 non-null int64\n",
      "num_var45_ult1                   76020 non-null int64\n",
      "num_var45_ult3                   76020 non-null int64\n",
      "saldo_var2_ult1                  76020 non-null int64\n",
      "saldo_medio_var5_hace2           76020 non-null float64\n",
      "saldo_medio_var5_hace3           76020 non-null float64\n",
      "saldo_medio_var5_ult1            76020 non-null float64\n",
      "saldo_medio_var5_ult3            76020 non-null float64\n",
      "saldo_medio_var8_hace2           76020 non-null float64\n",
      "saldo_medio_var8_hace3           76020 non-null float64\n",
      "saldo_medio_var8_ult1            76020 non-null float64\n",
      "saldo_medio_var8_ult3            76020 non-null float64\n",
      "saldo_medio_var12_hace2          76020 non-null float64\n",
      "saldo_medio_var12_hace3          76020 non-null float64\n",
      "saldo_medio_var12_ult1           76020 non-null float64\n",
      "saldo_medio_var12_ult3           76020 non-null float64\n",
      "saldo_medio_var13_corto_hace2    76020 non-null float64\n",
      "saldo_medio_var13_corto_hace3    76020 non-null float64\n",
      "saldo_medio_var13_corto_ult1     76020 non-null float64\n",
      "saldo_medio_var13_corto_ult3     76020 non-null float64\n",
      "saldo_medio_var13_largo_hace2    76020 non-null float64\n",
      "saldo_medio_var13_largo_hace3    76020 non-null float64\n",
      "saldo_medio_var13_largo_ult1     76020 non-null float64\n",
      "saldo_medio_var13_largo_ult3     76020 non-null float64\n",
      "saldo_medio_var13_medio_hace2    76020 non-null float64\n",
      "saldo_medio_var13_medio_hace3    76020 non-null int64\n",
      "saldo_medio_var13_medio_ult1     76020 non-null int64\n",
      "saldo_medio_var13_medio_ult3     76020 non-null float64\n",
      "saldo_medio_var17_hace2          76020 non-null float64\n",
      "saldo_medio_var17_hace3          76020 non-null float64\n",
      "saldo_medio_var17_ult1           76020 non-null float64\n",
      "saldo_medio_var17_ult3           76020 non-null float64\n",
      "saldo_medio_var29_hace2          76020 non-null float64\n",
      "saldo_medio_var29_hace3          76020 non-null float64\n",
      "saldo_medio_var29_ult1           76020 non-null float64\n",
      "saldo_medio_var29_ult3           76020 non-null float64\n",
      "saldo_medio_var33_hace2          76020 non-null float64\n",
      "saldo_medio_var33_hace3          76020 non-null float64\n",
      "saldo_medio_var33_ult1           76020 non-null float64\n",
      "saldo_medio_var33_ult3           76020 non-null float64\n",
      "saldo_medio_var44_hace2          76020 non-null float64\n",
      "saldo_medio_var44_hace3          76020 non-null float64\n",
      "saldo_medio_var44_ult1           76020 non-null float64\n",
      "saldo_medio_var44_ult3           76020 non-null float64\n",
      "var38                            76020 non-null float64\n",
      "TARGET                           76020 non-null int64\n",
      "dtypes: float64(111), int64(259)\n",
      "memory usage: 215.2 MB\n"
     ]
    }
   ],
   "source": [
    "train.info(verbose=True, memory_usage=True, null_counts=True)"
   ]
  },
  {
   "cell_type": "markdown",
   "metadata": {},
   "source": [
    "### Подготовка данных"
   ]
  },
  {
   "cell_type": "code",
   "execution_count": 14,
   "metadata": {
    "collapsed": true
   },
   "outputs": [],
   "source": [
    "y = list(train['TARGET'])"
   ]
  },
  {
   "cell_type": "code",
   "execution_count": 15,
   "metadata": {
    "collapsed": true
   },
   "outputs": [],
   "source": [
    "train = train.drop('TARGET', axis=1)"
   ]
  },
  {
   "cell_type": "code",
   "execution_count": 16,
   "metadata": {
    "collapsed": true
   },
   "outputs": [],
   "source": [
    "X_train, X_test, y_train, y_test = train_test_split(train, y, test_size=0.33, random_state=42)"
   ]
  },
  {
   "cell_type": "code",
   "execution_count": 17,
   "metadata": {
    "collapsed": true
   },
   "outputs": [],
   "source": [
    "def plot(X, Y, mdl_name, hp_name):\n",
    "    %matplotlib inline\n",
    "    plt.figure(figsize=(10, 5))\n",
    "    plt.plot(X, Y)\n",
    "    plt.ylabel('ROC AUC')\n",
    "    plt.xlabel(hp_name)\n",
    "    plt.grid(True)\n",
    "    plt.title('ROC-AUC of {0} depends on {1}'.format(mdl_name, hp_name))\n",
    "    plt.ylim((-0.01, 1.01))"
   ]
  },
  {
   "cell_type": "markdown",
   "metadata": {},
   "source": [
    "### Подбор моделей"
   ]
  },
  {
   "cell_type": "markdown",
   "metadata": {},
   "source": [
    "#### Инициализация моделей"
   ]
  },
  {
   "cell_type": "code",
   "execution_count": 18,
   "metadata": {
    "collapsed": true
   },
   "outputs": [],
   "source": [
    "cpu_count = -1"
   ]
  },
  {
   "cell_type": "code",
   "execution_count": 19,
   "metadata": {
    "collapsed": true
   },
   "outputs": [],
   "source": [
    "models = {\n",
    "    'dtc': {\n",
    "        'HyperParams': [\n",
    "            {\n",
    "                'name': 'max_depth',\n",
    "                'values': [1, 2, 3, 5, 8, 13, 21, 34, 55]\n",
    "            }\n",
    "        ],\n",
    "        'res': []\n",
    "    },\n",
    "    'knc': {\n",
    "        'HyperParams': [\n",
    "            {\n",
    "                'name': 'n_neighbors',\n",
    "                'values': [1, 2, 3, 5, 8, 13, 21, 34, 55]\n",
    "            }\n",
    "        ],\n",
    "        'res': []\n",
    "    },\n",
    "    'lr': {\n",
    "        'HyperParams': [\n",
    "            {\n",
    "                'name': 'penalty',\n",
    "                'values': ['l1', 'l2']\n",
    "            },\n",
    "            {\n",
    "                'name': 'C',\n",
    "                'values': [1/8, 1/5, 1/3, 1/2, 1, 1.3, 1.65, 2, 3, 5, 8]\n",
    "            }\n",
    "        ],\n",
    "        'res': []\n",
    "    },\n",
    "}"
   ]
  },
  {
   "cell_type": "markdown",
   "metadata": {},
   "source": [
    "##### DecisionTreeClassifier"
   ]
  },
  {
   "cell_type": "code",
   "execution_count": 20,
   "metadata": {
    "collapsed": true
   },
   "outputs": [],
   "source": [
    "mdl_name = 'dtc'"
   ]
  },
  {
   "cell_type": "code",
   "execution_count": 21,
   "metadata": {},
   "outputs": [
    {
     "name": "stdout",
     "output_type": "stream",
     "text": [
      "Код модели: dtc, зависимость по параметру: max_depth, количество значений: 9\n"
     ]
    }
   ],
   "source": [
    "models[mdl_name]['res'].append({ 'X': [], 'Y': [] })\n",
    "n_rows = len(models[mdl_name]['HyperParams'])\n",
    "\n",
    "# последний параметр важен: его постараемся рисовать в одну линию для наглядности\n",
    "last_hp_name = models[mdl_name]['HyperParams'][n_rows - 1]['name']\n",
    "\n",
    "print('Код модели: {}, зависимость по параметру: {}, количество значений: {}'.format(\n",
    "    mdl_name,\n",
    "    last_hp_name,\n",
    "    len(models[mdl_name]['HyperParams'][n_rows - 1]['values'])\n",
    "))"
   ]
  },
  {
   "cell_type": "code",
   "execution_count": 22,
   "metadata": {
    "collapsed": true
   },
   "outputs": [],
   "source": [
    "def initMDL(params):\n",
    "    return DecisionTreeClassifier(**params)"
   ]
  },
  {
   "cell_type": "code",
   "execution_count": 23,
   "metadata": {},
   "outputs": [
    {
     "name": "stdout",
     "output_type": "stream",
     "text": [
      "Обучаем dtc для max_depth = 1\n",
      "Обучаем dtc для max_depth = 2\n",
      "Обучаем dtc для max_depth = 3\n",
      "Обучаем dtc для max_depth = 5\n",
      "Обучаем dtc для max_depth = 8\n",
      "Обучаем dtc для max_depth = 13\n",
      "Обучаем dtc для max_depth = 21\n",
      "Обучаем dtc для max_depth = 34\n",
      "Обучаем dtc для max_depth = 55\n"
     ]
    }
   ],
   "source": [
    "cur_i = -1 #номер текущего параметра\n",
    "for hp in models[mdl_name]['HyperParams']:\n",
    "    cur_i += 1\n",
    "    if hp['name'] == last_hp_name:\n",
    "        for hp_val in hp['values']:\n",
    "            print('Обучаем {0} для {1} = {2}'.format(mdl_name, hp['name'], hp_val))\n",
    "            mdl = initMDL({hp['name']: hp_val})\n",
    "            mdl.fit(X_train, y_train)\n",
    "            models[mdl_name]['res'][cur_i]['X'].append(hp_val)\n",
    "            models[mdl_name]['res'][cur_i]['Y'].append(roc_auc_score(y_test, mdl.predict_proba(X_test)[:,1]))"
   ]
  },
  {
   "cell_type": "code",
   "execution_count": 24,
   "metadata": {
    "scrolled": true
   },
   "outputs": [
    {
     "data": {
      "image/png": "[encoded data removed]",
      "text/plain": [
       "<matplotlib.figure.Figure at 0x47054cddd8>"
      ]
     },
     "metadata": {},
     "output_type": "display_data"
    }
   ],
   "source": [
    "plot(models[mdl_name]['res'][0]['X'], models[mdl_name]['res'][0]['Y'], mdl_name, hp['name'])"
   ]
  },
  {
   "cell_type": "markdown",
   "metadata": {},
   "source": [
    "##### KNeighborsClassifier"
   ]
  },
  {
   "cell_type": "code",
   "execution_count": 25,
   "metadata": {},
   "outputs": [
    {
     "name": "stdout",
     "output_type": "stream",
     "text": [
      "Код модели: knc, зависимость по параметру: n_neighbors, количество значений: 9\n"
     ]
    }
   ],
   "source": [
    "mdl_name = 'knc'\n",
    "models[mdl_name]['res'].append({ 'X': [], 'Y': [] })\n",
    "n_rows = len(models[mdl_name]['HyperParams'])\n",
    "\n",
    "# последний параметр важен: его постараемся рисовать в одну линию для наглядности\n",
    "last_hp_name = models[mdl_name]['HyperParams'][n_rows - 1]['name']\n",
    "\n",
    "print('Код модели: {}, зависимость по параметру: {}, количество значений: {}'.format(\n",
    "    mdl_name,\n",
    "    last_hp_name,\n",
    "    len(models[mdl_name]['HyperParams'][n_rows - 1]['values'])\n",
    "))"
   ]
  },
  {
   "cell_type": "code",
   "execution_count": 26,
   "metadata": {
    "collapsed": true
   },
   "outputs": [],
   "source": [
    "def initMDL(params):\n",
    "    return KNeighborsClassifier(**params)"
   ]
  },
  {
   "cell_type": "code",
   "execution_count": 27,
   "metadata": {},
   "outputs": [
    {
     "name": "stdout",
     "output_type": "stream",
     "text": [
      "Обучаем knc для n_neighbors = 1\n",
      "Обучаем knc для n_neighbors = 2\n",
      "Обучаем knc для n_neighbors = 3\n",
      "Обучаем knc для n_neighbors = 5\n",
      "Обучаем knc для n_neighbors = 8\n",
      "Обучаем knc для n_neighbors = 13\n",
      "Обучаем knc для n_neighbors = 21\n",
      "Обучаем knc для n_neighbors = 34\n",
      "Обучаем knc для n_neighbors = 55\n"
     ]
    }
   ],
   "source": [
    "cur_i = -1 #номер текущего параметра\n",
    "for hp in models[mdl_name]['HyperParams']:\n",
    "    cur_i += 1\n",
    "    if hp['name'] == last_hp_name:\n",
    "        for hp_val in hp['values']:\n",
    "            print('Обучаем {0} для {1} = {2}'.format(mdl_name, hp['name'], hp_val))\n",
    "            mdl = initMDL({hp['name']: hp_val, 'n_jobs': cpu_count})\n",
    "            mdl.fit(X_train, y_train)\n",
    "            models[mdl_name]['res'][cur_i]['X'].append(hp_val)\n",
    "            models[mdl_name]['res'][cur_i]['Y'].append(roc_auc_score(y_test, mdl.predict_proba(X_test)[:,1]))"
   ]
  },
  {
   "cell_type": "code",
   "execution_count": 28,
   "metadata": {
    "scrolled": true
   },
   "outputs": [
    {
     "data": {
      "image/png": "[encoded data removed]",
      "text/plain": [
       "<matplotlib.figure.Figure at 0x470563fc88>"
      ]
     },
     "metadata": {},
     "output_type": "display_data"
    }
   ],
   "source": [
    "plot(models[mdl_name]['res'][0]['X'], models[mdl_name]['res'][0]['Y'], mdl_name, hp['name'])"
   ]
  },
  {
   "cell_type": "markdown",
   "metadata": {},
   "source": [
    "##### LogisticRegression "
   ]
  },
  {
   "cell_type": "code",
   "execution_count": 29,
   "metadata": {},
   "outputs": [
    {
     "name": "stdout",
     "output_type": "stream",
     "text": [
      "Код модели: lr, зависимость по параметру: C, количество значений: 11\n"
     ]
    }
   ],
   "source": [
    "mdl_name = 'lr'\n",
    "models[mdl_name]['res'] = [\n",
    "#    {\n",
    "#        X: [],\n",
    "#        Y: [],\n",
    "#        otherParams: {\n",
    "#            'name': 'value'\n",
    "#        }\n",
    "#    }\n",
    "]\n",
    "n_rows = len(models[mdl_name]['HyperParams'])\n",
    "\n",
    "# последний параметр важен: его рисуем на графике. Остальные параметры определяют количество графиков\n",
    "last_hp_name = models[mdl_name]['HyperParams'][n_rows - 1]['name']\n",
    "\n",
    "print('Код модели: {}, зависимость по параметру: {}, количество значений: {}'.format(\n",
    "    mdl_name,\n",
    "    last_hp_name,\n",
    "    len(models[mdl_name]['HyperParams'][n_rows - 1]['values'])\n",
    "))"
   ]
  },
  {
   "cell_type": "code",
   "execution_count": 30,
   "metadata": {
    "collapsed": true
   },
   "outputs": [],
   "source": [
    "def initMDL(params):\n",
    "    return LogisticRegression(**params)"
   ]
  },
  {
   "cell_type": "code",
   "execution_count": 31,
   "metadata": {
    "scrolled": true
   },
   "outputs": [
    {
     "name": "stdout",
     "output_type": "stream",
     "text": [
      "Обучаем lr для {'penalty': 'l1'}, C = 0.125\n"
     ]
    },
    {
     "name": "stderr",
     "output_type": "stream",
     "text": [
      "C:\\ProgramData\\Anaconda3\\lib\\site-packages\\sklearn\\linear_model\\base.py:340: RuntimeWarning: overflow encountered in exp\n",
      "  np.exp(prob, prob)\n"
     ]
    },
    {
     "name": "stdout",
     "output_type": "stream",
     "text": [
      "Обучаем lr для {'penalty': 'l2'}, C = 0.125\n",
      "Обучаем lr для {'penalty': 'l1'}, C = 0.2\n",
      "Обучаем lr для {'penalty': 'l2'}, C = 0.2\n",
      "Обучаем lr для {'penalty': 'l1'}, C = 0.3333333333333333\n",
      "Обучаем lr для {'penalty': 'l2'}, C = 0.3333333333333333\n",
      "Обучаем lr для {'penalty': 'l1'}, C = 0.5\n",
      "Обучаем lr для {'penalty': 'l2'}, C = 0.5\n",
      "Обучаем lr для {'penalty': 'l1'}, C = 1\n",
      "Обучаем lr для {'penalty': 'l2'}, C = 1\n",
      "Обучаем lr для {'penalty': 'l1'}, C = 1.3\n",
      "Обучаем lr для {'penalty': 'l2'}, C = 1.3\n",
      "Обучаем lr для {'penalty': 'l1'}, C = 1.65\n",
      "Обучаем lr для {'penalty': 'l2'}, C = 1.65\n",
      "Обучаем lr для {'penalty': 'l1'}, C = 2\n",
      "Обучаем lr для {'penalty': 'l2'}, C = 2\n",
      "Обучаем lr для {'penalty': 'l1'}, C = 3\n",
      "Обучаем lr для {'penalty': 'l2'}, C = 3\n",
      "Обучаем lr для {'penalty': 'l1'}, C = 5\n",
      "Обучаем lr для {'penalty': 'l2'}, C = 5\n",
      "Обучаем lr для {'penalty': 'l1'}, C = 8\n",
      "Обучаем lr для {'penalty': 'l2'}, C = 8\n"
     ]
    }
   ],
   "source": [
    "cur_i = -1 #номер текущего параметра\n",
    "params = {\n",
    "    'n_jobs': cpu_count\n",
    "}\n",
    "for hp in models[mdl_name]['HyperParams']:\n",
    "    cur_i += 1\n",
    "    if hp['name'] == last_hp_name:\n",
    "        for hp_val in hp['values']:\n",
    "            for res in models[mdl_name]['res']:\n",
    "                print('Обучаем {0} для {1}, {2} = {3}'.format(mdl_name, res['otherParams'], hp['name'], hp_val))\n",
    "                mdl = initMDL({\n",
    "                    hp['name']: hp_val,\n",
    "# эти параметры почему-то не работают\n",
    "#                    'n_jobs': cpu_count,\n",
    "#                    'solver': 'saga',\n",
    "                    list(res['otherParams'].keys())[0]: list(res['otherParams'].values())[0]\n",
    "                })\n",
    "                mdl.fit(X_train, y_train)\n",
    "                res['X'].append(hp_val)\n",
    "                res['Y'].append(roc_auc_score(y_test, mdl.predict_proba(X_test)[:,1]))\n",
    "    else:\n",
    "        for hp_val in hp['values']:\n",
    "            # в данной реализации рассчитано только на 1 дополнительнй гиперпараметр. Для нескольких работать не будет\n",
    "            models[mdl_name]['res'].append({\n",
    "                'X': [],\n",
    "                'Y': [],\n",
    "                'otherParams': {\n",
    "                    hp['name']: hp_val\n",
    "                }\n",
    "            })\n"
   ]
  },
  {
   "cell_type": "code",
   "execution_count": 49,
   "metadata": {
    "scrolled": true
   },
   "outputs": [
    {
     "data": {
      "image/png": "[encoded data removed]",
      "text/plain": [
       "<matplotlib.figure.Figure at 0x474dc074e0>"
      ]
     },
     "metadata": {},
     "output_type": "display_data"
    }
   ],
   "source": [
    "%matplotlib inline\n",
    "i = 0\n",
    "fig, ax = plt.subplots(ncols=2, figsize=(20,6))\n",
    "for res in models[mdl_name]['res']:\n",
    "    plt.plot()\n",
    "    ax[i].plot(res['X'], res['Y'], label=res['otherParams'])\n",
    "    ax[i].legend()\n",
    "    ax[i].set(xlabel='last_hp_name', ylabel='ROC AUC')\n",
    "    ax[i].grid(True)\n",
    "    ax[i].set_title('ROC-AUC of {0} depends on {1}'.format(mdl_name, last_hp_name))\n",
    "    i += 1\n"
   ]
  },
  {
   "cell_type": "code",
   "execution_count": null,
   "metadata": {
    "collapsed": true
   },
   "outputs": [],
   "source": []
  }
 ],
 "metadata": {
  "kernelspec": {
   "display_name": "Python 3",
   "language": "python",
   "name": "python3"
  },
  "language_info": {
   "codemirror_mode": {
    "name": "ipython",
    "version": 3
   },
   "file_extension": ".py",
   "mimetype": "text/x-python",
   "name": "python",
   "nbconvert_exporter": "python",
   "pygments_lexer": "ipython3",
   "version": "3.6.4"
  }
 },
 "nbformat": 4,
 "nbformat_minor": 2
}
